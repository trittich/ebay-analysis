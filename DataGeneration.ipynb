{
 "cells": [
  {
   "cell_type": "markdown",
   "metadata": {},
   "source": [
    "# Ebay Auction Research - Data Generation "
   ]
  },
  {
   "cell_type": "markdown",
   "metadata": {},
   "source": [
    "## Config"
   ]
  },
  {
   "cell_type": "code",
   "execution_count": 1,
   "metadata": {},
   "outputs": [],
   "source": [
    "%config IPCompleter.greedy=True"
   ]
  },
  {
   "cell_type": "markdown",
   "metadata": {},
   "source": [
    "## Imports"
   ]
  },
  {
   "cell_type": "code",
   "execution_count": 2,
   "metadata": {},
   "outputs": [],
   "source": [
    "import pandas as pd\n",
    "\n",
    "from bs4 import BeautifulSoup #for HTML parsing\n",
    "from time import sleep #To prevent overwhelming the server between connections\n",
    "from lxml import html\n",
    "\n",
    "import requests\n",
    "\n",
    "import re #regular expressions\n",
    "\n",
    "import csv #to save as csv\n",
    "\n",
    "import datetime #to convert timestamps\n",
    "from pytz import timezone #to convert timestamps\n",
    "\n",
    "import math # to round up"
   ]
  },
  {
   "cell_type": "markdown",
   "metadata": {},
   "source": [
    "## Define lists with the links to the dedicated categories to use"
   ]
  },
  {
   "cell_type": "code",
   "execution_count": 3,
   "metadata": {},
   "outputs": [],
   "source": [
    "categories_antiques = ['Antiquities/37903/bn_1865503',\n",
    "            'Architectural-Garden-Antiques/4707/bn_1865433',\n",
    "            'Asian-Antiques/20082/bn_1865025',\n",
    "            'Antique-Decorative-Arts/20086/bn_1849288',\n",
    "            'Ethnographic-Antiques/2207/bn_1865604',\n",
    "            'Antique-Furniture/20091/bn_1865102',\n",
    "            'Home-Hearth-Antiques/163008/bn_1856765',\n",
    "            'Incunabula/22422/bn_16563046',\n",
    "            'Antique-Linens-Textiles/181677/bn_1850579',\n",
    "            'Antique-Manuscripts/23048/bn_16561733',\n",
    "            'Antique-Maps-Atlases-Globes/37958/bn_1856736',\n",
    "            'Maritime-Antiques/37965/bn_1865553',\n",
    "            'Mercantile-Trade-Factory-Antiques/163091/bn_1865217',\n",
    "            'Antique-Musical-Instruments/181726/bn_1857439',\n",
    "            'Other-Antiques/12/bn_1849364',\n",
    "            'Period-Style-Antiques/100927/bn_1861165',\n",
    "            'Antique-Primitives/1217/bn_1852967',\n",
    "            'Antique-Rugs-Carpets/37978/bn_1860491',\n",
    "            'Science-Medicine-Antiques/20094/bn_1865445',\n",
    "            'Sewing-Antiques/156323/bn_1852475',\n",
    "            'Silver-Antiques/20096/bn_1865522'\n",
    "             ]"
   ]
  },
  {
   "cell_type": "code",
   "execution_count": 4,
   "metadata": {},
   "outputs": [],
   "source": [
    "categories_computers = ['Apple-Desktops-All-In-One-Computers/111418/bn_661869',\n",
    "            'Apple-Laptops/111422/bn_320025',\n",
    "            'Apple-Tablets-eReaders/171485/bn_319675',\n",
    "            'Cameras-Photo/625/bn_1865546',\n",
    "            'Cell-Phones-Smartphones/9355/bn_320094',\n",
    "            'Computer-Drives-Storage-Blank-Media/165/bn_738891',\n",
    "            'Computer-Monitors/80053/bn_317528',\n",
    "            'Computer-Projectors/25321/bn_320054',\n",
    "            'Computer-Printers/1245/bn_320031',\n",
    "            'Computer-Scanners/11205/bn_320028',\n",
    "            'PC-Desktops-All-In-One-Computers/179/bn_661752',\n",
    "            'PC-Laptops-Netbooks/177/bn_317584',\n",
    "            'Smart-Watches/178893/bn_152365'\n",
    "             ]"
   ]
  },
  {
   "cell_type": "markdown",
   "metadata": {},
   "source": [
    "## Scrape the category pages to collect links to auctions"
   ]
  },
  {
   "cell_type": "markdown",
   "metadata": {},
   "source": [
    "### Definitions"
   ]
  },
  {
   "cell_type": "code",
   "execution_count": 10,
   "metadata": {},
   "outputs": [],
   "source": [
    "def get_category_page(category, pagenumber):\n",
    "    \n",
    "    headers = {'user-agent': 'Mozilla/5.0 (Macintosh; Intel Mac OS X 11_2) AppleWebKit/537.36 (KHTML, like Gecko) Chrome/88.0.4324.150 Safari/537.36'}\n",
    "    try:\n",
    "        page = requests.get('https://www.ebay.com/b/'+ str(category) + '?LH_Auction=1&LH_Complete=1&LH_Sold=1&_pgn=' + str(pagenumber) + '&rt=nc', headers=headers, timeout=10)\n",
    "    except requests.exceptions.RequestException:\n",
    "        print('get_category_page - Timeout - Page: ' + str(pagenumber))\n",
    "        sleep(60)\n",
    "        print('get_category_page - Retry - Page: ' + str(pagenumber))\n",
    "        page = get_category_page(category, pagenumber)\n",
    "    return page"
   ]
  },
  {
   "cell_type": "code",
   "execution_count": 11,
   "metadata": {},
   "outputs": [],
   "source": [
    "def scrape_categories(categories, startpage, endpage):\n",
    "\n",
    "    urlset = set()\n",
    "    headers = {'user-agent': 'Mozilla/5.0 (Macintosh; Intel Mac OS X 11_2) AppleWebKit/537.36 (KHTML, like Gecko) Chrome/88.0.4324.150 Safari/537.36'}\n",
    "    \n",
    "    for catnumber, category in enumerate(categories):\n",
    "        for pagenumber in range(startpage, endpage):\n",
    "            page = get_category_page(category, pagenumber)\n",
    "            soup = BeautifulSoup(page.content, 'lxml')\n",
    "\n",
    "            for item in soup.findAll('a', href=True):\n",
    "                if (re.fullmatch(r'https://www.ebay.com/itm/.*', item['href']) != None):\n",
    "                    urlset.add(item['href'].split('?')[0])\n",
    "        urllist = list(urlset)\n",
    "        urllist_to_csv(urllist, 'urls_antiques_' + str(catnumber) + '.csv')\n",
    "        print ('Category finished: ' + str(category))\n",
    "        \n",
    "    urllist = list(urlset)\n",
    "    return urllist"
   ]
  },
  {
   "cell_type": "code",
   "execution_count": 12,
   "metadata": {},
   "outputs": [],
   "source": [
    "def urllist_to_csv(urllist, filename):\n",
    "    file = open(filename, 'w+', newline ='')  \n",
    "    with file:     \n",
    "        write = csv.writer(file, quoting=csv.QUOTE_ALL) \n",
    "        write.writerow(['ID', 'URL'])\n",
    "        for i, item in enumerate(urllist):\n",
    "            write.writerow([i, item])"
   ]
  },
  {
   "cell_type": "markdown",
   "metadata": {},
   "source": [
    "### First run"
   ]
  },
  {
   "cell_type": "code",
   "execution_count": 64,
   "metadata": {},
   "outputs": [
    {
     "name": "stdout",
     "output_type": "stream",
     "text": [
      "Category finished: Antiquities/37903/bn_1865503\n",
      "Category finished: Architectural-Garden-Antiques/4707/bn_1865433\n",
      "Category finished: Asian-Antiques/20082/bn_1865025\n",
      "Category finished: Antique-Decorative-Arts/20086/bn_1849288\n",
      "Category finished: Ethnographic-Antiques/2207/bn_1865604\n",
      "Category finished: Antique-Furniture/20091/bn_1865102\n",
      "Category finished: Home-Hearth-Antiques/163008/bn_1856765\n",
      "Category finished: Incunabula/22422/bn_16563046\n",
      "Category finished: Antique-Linens-Textiles/181677/bn_1850579\n",
      "Category finished: Antique-Manuscripts/23048/bn_16561733\n",
      "Category finished: Antique-Maps-Atlases-Globes/37958/bn_1856736\n",
      "Category finished: Maritime-Antiques/37965/bn_1865553\n",
      "Category finished: Mercantile-Trade-Factory-Antiques/163091/bn_1865217\n",
      "Category finished: Antique-Musical-Instruments/181726/bn_1857439\n",
      "Category finished: Other-Antiques/12/bn_1849364\n",
      "Category finished: Period-Style-Antiques/100927/bn_1861165\n",
      "Category finished: Antique-Primitives/1217/bn_1852967\n",
      "Category finished: Antique-Rugs-Carpets/37978/bn_1860491\n",
      "Category finished: Science-Medicine-Antiques/20094/bn_1865445\n",
      "Category finished: Sewing-Antiques/156323/bn_1852475\n",
      "Category finished: Silver-Antiques/20096/bn_1865522\n"
     ]
    }
   ],
   "source": [
    "urllist_antiques = scrape_categories(categories_antiques, 1, 201)\n",
    "urllist_to_csv(urllist_antiques, 'urls_antiques.csv')"
   ]
  },
  {
   "cell_type": "code",
   "execution_count": 181,
   "metadata": {
    "scrolled": false
   },
   "outputs": [
    {
     "name": "stdout",
     "output_type": "stream",
     "text": [
      "Category finished: Apple-Desktops-All-In-One-Computers/111418/bn_661869\n",
      "Category finished: Apple-Laptops/111422/bn_320025\n",
      "Category finished: Apple-Tablets-eReaders/171485/bn_319675\n",
      "Category finished: Cameras-Photo/625/bn_1865546\n",
      "Category finished: Cell-Phones-Smartphones/9355/bn_320094\n",
      "Category finished: Computer-Drives-Storage-Blank-Media/165/bn_738891\n",
      "Category finished: Computer-Monitors/80053/bn_317528\n",
      "Category finished: Computer-Projectors/25321/bn_320054\n",
      "Category finished: Computer-Printers/1245/bn_320031\n",
      "Category finished: Computer-Scanners/11205/bn_320028\n",
      "Category finished: PC-Desktops-All-In-One-Computers/179/bn_661752\n",
      "Category finished: PC-Laptops-Netbooks/177/bn_317584\n",
      "Category finished: Smart-Watches/178893/bn_152365\n"
     ]
    }
   ],
   "source": [
    "urllist_computers = scrape_categories(categories_computers, 1, 201)\n",
    "urllist_to_csv(urllist_computers, 'urls_computers.csv')"
   ]
  },
  {
   "cell_type": "markdown",
   "metadata": {},
   "source": [
    "### Second run"
   ]
  },
  {
   "cell_type": "code",
   "execution_count": null,
   "metadata": {},
   "outputs": [],
   "source": [
    "urllist_computers2 = scrape_categories(categories_computers, 1, 201)\n",
    "urllist_to_csv(urllist_computers2, 'urls_computers2.csv')"
   ]
  },
  {
   "cell_type": "markdown",
   "metadata": {},
   "source": [
    "## Use the collected links to create two lists with the particular bids"
   ]
  },
  {
   "cell_type": "markdown",
   "metadata": {},
   "source": [
    "### Functions definition"
   ]
  },
  {
   "cell_type": "code",
   "execution_count": 27,
   "metadata": {},
   "outputs": [],
   "source": [
    "def get_bidding_history(itemnumber):\n",
    "    \n",
    "    headers = {'user-agent': 'Mozilla/5.0 (Macintosh; Intel Mac OS X 11_2) AppleWebKit/537.36 (KHTML, like Gecko) Chrome/88.0.4324.150 Safari/537.36'}\n",
    "    \n",
    "    try:\n",
    "        page = requests.get('https://www.ebay.com/bfl/viewbids/' + str(itemnumber), headers=headers, timeout=10)\n",
    "    except requests.exceptions.Timeout:\n",
    "        print('get_bidding_history - Timeout - Item: ' + str(itemnumber))\n",
    "        sleep(60)\n",
    "        print('get_bidding_history - Retry - Item: ' + str(itemnumber))\n",
    "        page = get_bidding_history(itemnumber)\n",
    "    return page"
   ]
  },
  {
   "cell_type": "code",
   "execution_count": 28,
   "metadata": {},
   "outputs": [],
   "source": [
    "def scrape_biddings(itemnumber):\n",
    "\n",
    "    df = pd.DataFrame(columns = ['Itemnumber','Title','Ending Time', 'Timestamp', 'Bidder', 'feedback_score', 'Bid Amount'])\n",
    "\n",
    "    page = get_bidding_history(itemnumber)\n",
    "\n",
    "    soup = BeautifulSoup(page.content, 'lxml')\n",
    "    \n",
    "    if (soup.find('div', {'class' : 'offer-title-top_panel_main'}) == None): #return empty df when auction is not available anymore\n",
    "        return pd.DataFrame(columns = ['Itemnumber','Title','Ending Time', 'Timestamp', 'Bidder', 'feedback_score', 'Bid Amount'])\n",
    "    \n",
    "    title = soup.find('div', {'class' : 'offer-title-top_panel_main'}).get_text()\n",
    "    \n",
    "    ending_time = ( timezone('US/Pacific')\n",
    "                    .localize(datetime.datetime.strptime(\n",
    "                        soup.find('div', {'class' : 'app-bid-info_wrapper'})\n",
    "                            .find('ul')\n",
    "                            .findAll('li')[2]\n",
    "                            .find('div')\n",
    "                            .get_text()[:-4]\n",
    "                        , '%d %b %Y at %I:%M:%S%p'\n",
    "                    ))\n",
    "                  )\n",
    "\n",
    "    table = soup.find('table', {'aria-label' : 'Bid history'})\n",
    "    rows = table.find_all('tr', {'class' : 'ui-component-table_tr_detailinfo'})\n",
    "    \n",
    "    for row in rows[:-1]: #starting with the second element to ignore the header row and ending 2 before last\n",
    "        \n",
    "        data = row.find_all('td')\n",
    "        \n",
    "        if (data[0].find('a') == None): # return empty df when no bidder information is available\n",
    "            return pd.DataFrame(columns = ['Itemnumber','Title','Ending Time', 'Timestamp', 'Bidder', 'feedback_score', 'Bid Amount'])\n",
    "        bidder = data[0].find('a').get_text()\n",
    "        \n",
    "        feedback_score = (row.find('span', {'class' : 'app-feedback-star_count'}))\n",
    "        if (feedback_score.get_text() == 'private'): # return empty df when bidder hides his feedback score\n",
    "            return pd.DataFrame(columns = ['Itemnumber','Title','Ending Time', 'Timestamp', 'Bidder', 'feedback_score', 'Bid Amount'])\n",
    "        feedback_score.find('span', {'class' : 'clipped'}).clear()\n",
    "        feedback_score = feedback_score.get_text()\n",
    "        \n",
    "        bid_amount = re.sub('\\D', '', data[1].get_text())\n",
    " \n",
    "        timestamp = ( timezone('US/Pacific')\n",
    "                        .localize(datetime.datetime.strptime(\n",
    "                        data[2].get_text()[:-4], '%d %b %Y at %I:%M:%S%p'))\n",
    "                    )\n",
    "        df = df.append(\n",
    "            {'Itemnumber': itemnumber,\n",
    "            'Title': title,\n",
    "            'Ending Time': ending_time, \n",
    "            'Timestamp': timestamp, \n",
    "            'Bidder': bidder, \n",
    "            'feedback_score': feedback_score,\n",
    "            'Bid Amount': bid_amount}, \n",
    "            ignore_index=True)\n",
    "        \n",
    "    return df\n",
    "        \n",
    "\n",
    "#data = (scrape_biddings(402516064006))\n",
    "#data = (scrape_biddings(383755629593))"
   ]
  },
  {
   "cell_type": "code",
   "execution_count": 29,
   "metadata": {},
   "outputs": [],
   "source": [
    "def process_itemlist_and_scrape(itemlist, output_path):\n",
    "\n",
    "    data = pd.DataFrame(columns = ['Itemnumber','Title','Ending Time', 'Timestamp', 'Bidder', 'feedback_score', 'Bid Amount'])\n",
    "\n",
    "    for ind, item in itemlist.items():\n",
    "        data = data.append(scrape_biddings(item), ignore_index=True)\n",
    "        if (ind%50 == 0):\n",
    "            print('Current index: ' + str(ind))\n",
    "        if (ind%1000 == 0 and ind != 0):\n",
    "            data.to_csv( output_path + str(int(ind/1000)) + '.csv', quoting=csv.QUOTE_ALL)\n",
    "            data = pd.DataFrame(columns = ['Itemnumber','Title','Ending Time', 'Timestamp', 'Bidder', 'feedback_score', 'Bid Amount'])\n",
    "            print('Items ' + str(ind - 999) + ' - ' + str(ind) + ' processed and saved!') \n",
    "    data.to_csv(output_path + str( int( math.ceil( ind/1000))) + '.csv', quoting=csv.QUOTE_ALL)\n",
    "    print('Succeeded!') "
   ]
  },
  {
   "cell_type": "markdown",
   "metadata": {},
   "source": [
    "### Preparation of item lists"
   ]
  },
  {
   "cell_type": "code",
   "execution_count": 165,
   "metadata": {
    "scrolled": true
   },
   "outputs": [
    {
     "data": {
      "text/plain": [
       "0         224281728768\n",
       "1         184540354108\n",
       "2         174541405657\n",
       "3         363190833780\n",
       "4         233823195168\n",
       "              ...     \n",
       "123883    154146366938\n",
       "123884    383780417525\n",
       "123885    274568379654\n",
       "123886    174508441879\n",
       "123887    254752029537\n",
       "Name: URL, Length: 123888, dtype: object"
      ]
     },
     "execution_count": 165,
     "metadata": {},
     "output_type": "execute_result"
    }
   ],
   "source": [
    "itemlist_antiques = pd.read_csv('urls_antiques.csv')\n",
    "itemlist_antiques = itemlist_antiques['URL']\n",
    "itemlist_antiques = itemlist_antiques.str.slice(start = -12)\n",
    "itemlist_antiques"
   ]
  },
  {
   "cell_type": "code",
   "execution_count": 12,
   "metadata": {},
   "outputs": [
    {
     "data": {
      "text/plain": [
       "0        333762762502\n",
       "1        284129210813\n",
       "2        264966024795\n",
       "3        224202309051\n",
       "4        274581752358\n",
       "             ...     \n",
       "45469    143805985854\n",
       "45470    392992800201\n",
       "45471    203218253476\n",
       "45472    203217042935\n",
       "45473    274544277360\n",
       "Name: URL, Length: 45474, dtype: object"
      ]
     },
     "execution_count": 12,
     "metadata": {},
     "output_type": "execute_result"
    }
   ],
   "source": [
    "itemlist_computers = pd.read_csv('urls_computers.csv')\n",
    "itemlist_computers = itemlist_computers['URL']\n",
    "itemlist_computers = itemlist_computers.str.slice(start = -12)\n",
    "itemlist_computers"
   ]
  },
  {
   "cell_type": "code",
   "execution_count": null,
   "metadata": {},
   "outputs": [],
   "source": [
    "itemlist_computers2 = pd.read_csv('urls_computers2.csv')\n",
    "itemlist_computers2 = itemlist_computers2['URL']\n",
    "itemlist_computers2 = itemlist_computers2.str.slice(start = -12)\n",
    "itemlist_computers2\n",
    "\n",
    "itemlist_computers2 = itemlist_computers2[~itemlist_computers2.isin(itemlist_computers)]\n",
    "\n",
    "itemlist_computers2 = itemlist_computers2.reset_index(drop=True)\n",
    "\n",
    "itemlist_computers2"
   ]
  },
  {
   "cell_type": "markdown",
   "metadata": {},
   "source": [
    "### Process itemlists and save results to csv"
   ]
  },
  {
   "cell_type": "code",
   "execution_count": null,
   "metadata": {},
   "outputs": [],
   "source": [
    "process_itemlist_and_scrape(itemlist_antiques, 'biddingdata/antiques/biddingdata_antiques_')"
   ]
  },
  {
   "cell_type": "code",
   "execution_count": 192,
   "metadata": {},
   "outputs": [
    {
     "name": "stdout",
     "output_type": "stream",
     "text": [
      "Current index: 35050\n",
      "Current index: 35100\n",
      "Current index: 35150\n",
      "Current index: 35200\n",
      "Current index: 35250\n",
      "Current index: 35300\n",
      "Current index: 35350\n",
      "Current index: 35400\n",
      "Current index: 35450\n",
      "Current index: 35500\n",
      "Current index: 35550\n",
      "Current index: 35600\n",
      "Current index: 35650\n",
      "Current index: 35700\n",
      "Current index: 35750\n",
      "Current index: 35800\n",
      "Current index: 35850\n",
      "Current index: 35900\n",
      "Current index: 35950\n",
      "Current index: 36000\n",
      "Items 35001 - 36000 processed and saved!\n",
      "Current index: 36050\n",
      "Current index: 36100\n",
      "Current index: 36150\n",
      "Current index: 36200\n",
      "Current index: 36250\n",
      "Current index: 36300\n",
      "Current index: 36350\n",
      "Current index: 36400\n",
      "Current index: 36450\n",
      "Current index: 36500\n",
      "Current index: 36550\n",
      "Current index: 36600\n",
      "Current index: 36650\n",
      "Current index: 36700\n",
      "Current index: 36750\n",
      "Current index: 36800\n",
      "Current index: 36850\n",
      "Current index: 36900\n",
      "Current index: 36950\n",
      "Current index: 37000\n",
      "Items 36001 - 37000 processed and saved!\n",
      "Current index: 37050\n",
      "Current index: 37100\n",
      "Current index: 37150\n",
      "Current index: 37200\n",
      "Current index: 37250\n",
      "Current index: 37300\n",
      "Current index: 37350\n",
      "Current index: 37400\n",
      "Current index: 37450\n",
      "Current index: 37500\n",
      "Current index: 37550\n",
      "Current index: 37600\n",
      "Current index: 37650\n",
      "Current index: 37700\n",
      "Current index: 37750\n",
      "Current index: 37800\n",
      "Current index: 37850\n",
      "Current index: 37900\n",
      "Current index: 37950\n",
      "Current index: 38000\n",
      "Items 37001 - 38000 processed and saved!\n",
      "Current index: 38050\n",
      "Current index: 38100\n",
      "Current index: 38150\n",
      "Current index: 38200\n",
      "Current index: 38250\n",
      "Current index: 38300\n",
      "Current index: 38350\n",
      "Current index: 38400\n",
      "Current index: 38450\n",
      "Current index: 38500\n",
      "Current index: 38550\n",
      "Current index: 38600\n",
      "Current index: 38650\n",
      "Current index: 38700\n",
      "Current index: 38750\n",
      "Current index: 38800\n",
      "Current index: 38850\n",
      "Current index: 38900\n",
      "Current index: 38950\n",
      "Current index: 39000\n",
      "Items 38001 - 39000 processed and saved!\n",
      "Current index: 39050\n",
      "Current index: 39100\n",
      "Current index: 39150\n",
      "Current index: 39200\n",
      "Current index: 39250\n",
      "Current index: 39300\n",
      "Current index: 39350\n",
      "Current index: 39400\n",
      "Current index: 39450\n",
      "Current index: 39500\n",
      "Current index: 39550\n",
      "Current index: 39600\n",
      "Current index: 39650\n",
      "Current index: 39700\n",
      "Current index: 39750\n",
      "Current index: 39800\n",
      "Current index: 39850\n",
      "Current index: 39900\n",
      "Current index: 39950\n",
      "Current index: 40000\n",
      "Items 39001 - 40000 processed and saved!\n",
      "Current index: 40050\n",
      "Current index: 40100\n",
      "Current index: 40150\n",
      "get_bidding_history - Timeout - Item: 254742968768\n",
      "get_bidding_history - Retry - Item: 254742968768\n",
      "get_bidding_history - Timeout - Item: 254742968768\n",
      "get_bidding_history - Retry - Item: 254742968768\n",
      "get_bidding_history - Timeout - Item: 254742968768\n",
      "get_bidding_history - Retry - Item: 254742968768\n",
      "get_bidding_history - Timeout - Item: 254742968768\n",
      "get_bidding_history - Retry - Item: 254742968768\n",
      "Current index: 40200\n",
      "Current index: 40250\n",
      "Current index: 40300\n",
      "Current index: 40350\n",
      "Current index: 40400\n",
      "Current index: 40450\n",
      "Current index: 40500\n",
      "Current index: 40550\n",
      "Current index: 40600\n",
      "Current index: 40650\n",
      "Current index: 40700\n",
      "Current index: 40750\n",
      "Current index: 40800\n",
      "Current index: 40850\n",
      "Current index: 40900\n",
      "Current index: 40950\n",
      "Current index: 41000\n",
      "Items 40001 - 41000 processed and saved!\n",
      "Current index: 41050\n",
      "Current index: 41100\n",
      "Current index: 41150\n",
      "Current index: 41200\n",
      "Current index: 41250\n",
      "Current index: 41300\n",
      "Current index: 41350\n",
      "Current index: 41400\n",
      "Current index: 41450\n",
      "Current index: 41500\n",
      "Current index: 41550\n",
      "Current index: 41600\n",
      "Current index: 41650\n",
      "Current index: 41700\n",
      "Current index: 41750\n",
      "Current index: 41800\n",
      "Current index: 41850\n",
      "Current index: 41900\n",
      "Current index: 41950\n",
      "Current index: 42000\n",
      "Items 41001 - 42000 processed and saved!\n",
      "Current index: 42050\n",
      "Current index: 42100\n",
      "Current index: 42150\n",
      "Current index: 42200\n",
      "Current index: 42250\n",
      "Current index: 42300\n",
      "Current index: 42350\n",
      "Current index: 42400\n",
      "Current index: 42450\n",
      "Current index: 42500\n",
      "Current index: 42550\n",
      "Current index: 42600\n",
      "Current index: 42650\n",
      "Current index: 42700\n",
      "Current index: 42750\n",
      "Current index: 42800\n",
      "Current index: 42850\n",
      "Current index: 42900\n",
      "Current index: 42950\n",
      "Current index: 43000\n",
      "Items 42001 - 43000 processed and saved!\n",
      "Current index: 43050\n",
      "Current index: 43100\n",
      "Current index: 43150\n",
      "Current index: 43200\n",
      "Current index: 43250\n",
      "Current index: 43300\n",
      "Current index: 43350\n",
      "Current index: 43400\n",
      "Current index: 43450\n",
      "Current index: 43500\n",
      "Current index: 43550\n",
      "Current index: 43600\n",
      "Current index: 43650\n",
      "Current index: 43700\n",
      "get_bidding_history - Timeout - Item: 174545651975\n",
      "get_bidding_history - Retry - Item: 174545651975\n",
      "Current index: 43750\n",
      "Current index: 43800\n",
      "Current index: 43850\n",
      "Current index: 43900\n",
      "Current index: 43950\n",
      "Current index: 44000\n",
      "Items 43001 - 44000 processed and saved!\n",
      "Current index: 44050\n",
      "Current index: 44100\n",
      "Current index: 44150\n",
      "Current index: 44200\n",
      "Current index: 44250\n",
      "Current index: 44300\n",
      "Current index: 44350\n",
      "Current index: 44400\n",
      "Current index: 44450\n",
      "Current index: 44500\n",
      "Current index: 44550\n",
      "Current index: 44600\n",
      "Current index: 44650\n",
      "Current index: 44700\n",
      "Current index: 44750\n",
      "Current index: 44800\n",
      "Current index: 44850\n",
      "Current index: 44900\n",
      "Current index: 44950\n",
      "Current index: 45000\n",
      "Items 44001 - 45000 processed and saved!\n",
      "Current index: 45050\n",
      "Current index: 45100\n",
      "Current index: 45150\n",
      "Current index: 45200\n",
      "Current index: 45250\n",
      "Current index: 45300\n",
      "Current index: 45350\n",
      "Current index: 45400\n",
      "Current index: 45450\n",
      "Succeeded!\n"
     ]
    }
   ],
   "source": [
    "process_itemlist_and_scrape(itemlist_computers, 'biddingdata/computers/biddingdata_computers_')"
   ]
  },
  {
   "cell_type": "code",
   "execution_count": null,
   "metadata": {},
   "outputs": [],
   "source": [
    "process_itemlist_and_scrape(itemlist_computers2, 'biddingdata/computers2/biddingdata_computers_')"
   ]
  }
 ],
 "metadata": {
  "kernelspec": {
   "display_name": "Python 3",
   "language": "python",
   "name": "python3"
  },
  "language_info": {
   "codemirror_mode": {
    "name": "ipython",
    "version": 3
   },
   "file_extension": ".py",
   "mimetype": "text/x-python",
   "name": "python",
   "nbconvert_exporter": "python",
   "pygments_lexer": "ipython3",
   "version": "3.7.6"
  }
 },
 "nbformat": 4,
 "nbformat_minor": 4
}
